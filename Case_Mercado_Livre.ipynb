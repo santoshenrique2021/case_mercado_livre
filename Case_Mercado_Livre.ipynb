{
 "cells": [
  {
   "cell_type": "markdown",
   "id": "26a0704c-4e90-4f6a-a604-ea8c07db96a4",
   "metadata": {},
   "source": [
    "# EDA das ofertas relâmpagos\n",
    "\n",
    "## Objetivo\n",
    "\n",
    "* Como entender como as variáveis (*features*) se relacionam com as *ofertas relâmpagos*.\n",
    "  * **Estratégia**: Análise univariada e bivariada (principal) - distribuição conjunta de duas variáveis."
   ]
  },
  {
   "cell_type": "code",
   "execution_count": 32,
   "id": "b5da0c12-3977-47e6-b4b8-54e4017a2697",
   "metadata": {},
   "outputs": [],
   "source": [
    "#Bibliotecas\n",
    "import pandas as pd\n",
    "import numpy as np\n",
    "import matplotlib.pyplot as plt   \n",
    "##Eliminar os warnings\n",
    "import warnings\n",
    "warnings.filterwarnings(\"ignore\")\n",
    "##Ver todas as colunas do data frame\n",
    "pd.set_option('display.max_columns', None)\n",
    "##Ver todas as linhas do data frame\n",
    "pd.set_option('display.max_rows', None)\n",
    "##Dados sem notação científica\n",
    "pd.set_option('display.float_format', '{:,.2f}'.format)"
   ]
  },
  {
   "cell_type": "markdown",
   "id": "b8bda6f1-0cc9-40f2-8cef-59d78ac6e254",
   "metadata": {},
   "source": [
    "# 1- Visão preliminar dos dados"
   ]
  },
  {
   "cell_type": "code",
   "execution_count": 2,
   "id": "90e40fcf-3d58-41ef-87b6-0f142564c16e",
   "metadata": {},
   "outputs": [
    {
     "data": {
      "text/html": [
       "<div>\n",
       "<style scoped>\n",
       "    .dataframe tbody tr th:only-of-type {\n",
       "        vertical-align: middle;\n",
       "    }\n",
       "\n",
       "    .dataframe tbody tr th {\n",
       "        vertical-align: top;\n",
       "    }\n",
       "\n",
       "    .dataframe thead th {\n",
       "        text-align: right;\n",
       "    }\n",
       "</style>\n",
       "<table border=\"1\" class=\"dataframe\">\n",
       "  <thead>\n",
       "    <tr style=\"text-align: right;\">\n",
       "      <th></th>\n",
       "      <th>OFFER_START_DATE</th>\n",
       "      <th>OFFER_START_DTTM</th>\n",
       "      <th>OFFER_FINISH_DTTM</th>\n",
       "      <th>OFFER_TYPE</th>\n",
       "      <th>INVOLVED_STOCK</th>\n",
       "      <th>REMAINING_STOCK_AFTER_END</th>\n",
       "      <th>SOLD_AMOUNT</th>\n",
       "      <th>SOLD_QUANTITY</th>\n",
       "      <th>ORIGIN</th>\n",
       "      <th>SHIPPING_PAYMENT_TYPE</th>\n",
       "      <th>DOM_DOMAIN_AGG1</th>\n",
       "      <th>VERTICAL</th>\n",
       "      <th>DOMAIN_ID</th>\n",
       "    </tr>\n",
       "  </thead>\n",
       "  <tbody>\n",
       "    <tr>\n",
       "      <th>0</th>\n",
       "      <td>2021-06-22</td>\n",
       "      <td>2021-06-22 16:00:00+00:00</td>\n",
       "      <td>2021-06-22 23:02:43+00:00</td>\n",
       "      <td>lightning_deal</td>\n",
       "      <td>4</td>\n",
       "      <td>-2</td>\n",
       "      <td>4.72</td>\n",
       "      <td>6.0</td>\n",
       "      <td>A</td>\n",
       "      <td>none</td>\n",
       "      <td>PETS FOOD</td>\n",
       "      <td>CPG</td>\n",
       "      <td>MLM-BIRD_FOODS</td>\n",
       "    </tr>\n",
       "    <tr>\n",
       "      <th>1</th>\n",
       "      <td>2021-06-22</td>\n",
       "      <td>2021-06-22 13:00:00+00:00</td>\n",
       "      <td>2021-06-22 19:00:02+00:00</td>\n",
       "      <td>lightning_deal</td>\n",
       "      <td>5</td>\n",
       "      <td>5</td>\n",
       "      <td>NaN</td>\n",
       "      <td>NaN</td>\n",
       "      <td>NaN</td>\n",
       "      <td>free_shipping</td>\n",
       "      <td>PET PRODUCTS</td>\n",
       "      <td>OTHERS</td>\n",
       "      <td>MLM-ANIMAL_AND_PET_PRODUCTS</td>\n",
       "    </tr>\n",
       "    <tr>\n",
       "      <th>2</th>\n",
       "      <td>2021-06-22</td>\n",
       "      <td>2021-06-22 07:00:00+00:00</td>\n",
       "      <td>2021-06-22 13:00:01+00:00</td>\n",
       "      <td>lightning_deal</td>\n",
       "      <td>15</td>\n",
       "      <td>12</td>\n",
       "      <td>10.73</td>\n",
       "      <td>3.0</td>\n",
       "      <td>NaN</td>\n",
       "      <td>none</td>\n",
       "      <td>COMPUTERS</td>\n",
       "      <td>CE</td>\n",
       "      <td>MLM-SPEAKERS</td>\n",
       "    </tr>\n",
       "  </tbody>\n",
       "</table>\n",
       "</div>"
      ],
      "text/plain": [
       "  OFFER_START_DATE           OFFER_START_DTTM          OFFER_FINISH_DTTM  \\\n",
       "0       2021-06-22  2021-06-22 16:00:00+00:00  2021-06-22 23:02:43+00:00   \n",
       "1       2021-06-22  2021-06-22 13:00:00+00:00  2021-06-22 19:00:02+00:00   \n",
       "2       2021-06-22  2021-06-22 07:00:00+00:00  2021-06-22 13:00:01+00:00   \n",
       "\n",
       "       OFFER_TYPE  INVOLVED_STOCK  REMAINING_STOCK_AFTER_END  SOLD_AMOUNT  \\\n",
       "0  lightning_deal               4                         -2         4.72   \n",
       "1  lightning_deal               5                          5          NaN   \n",
       "2  lightning_deal              15                         12        10.73   \n",
       "\n",
       "   SOLD_QUANTITY ORIGIN SHIPPING_PAYMENT_TYPE DOM_DOMAIN_AGG1 VERTICAL  \\\n",
       "0            6.0      A                  none       PETS FOOD      CPG   \n",
       "1            NaN    NaN         free_shipping    PET PRODUCTS   OTHERS   \n",
       "2            3.0    NaN                  none       COMPUTERS       CE   \n",
       "\n",
       "                     DOMAIN_ID  \n",
       "0               MLM-BIRD_FOODS  \n",
       "1  MLM-ANIMAL_AND_PET_PRODUCTS  \n",
       "2                 MLM-SPEAKERS  "
      ]
     },
     "execution_count": 2,
     "metadata": {},
     "output_type": "execute_result"
    }
   ],
   "source": [
    "#Importar a base de dados\n",
    "df =  pd.read_csv('ofertas_relampago.csv', sep = ',')\n",
    "#Visualizar\n",
    "df.head(3) #Visualizar cada linha como uma promoção"
   ]
  },
  {
   "cell_type": "code",
   "execution_count": 3,
   "id": "8575423d-317a-4dbb-b6af-c8a28f225bb1",
   "metadata": {},
   "outputs": [
    {
     "name": "stdout",
     "output_type": "stream",
     "text": [
      "<class 'pandas.core.frame.DataFrame'>\n",
      "RangeIndex: 48746 entries, 0 to 48745\n",
      "Data columns (total 13 columns):\n",
      " #   Column                     Non-Null Count  Dtype  \n",
      "---  ------                     --------------  -----  \n",
      " 0   OFFER_START_DATE           48746 non-null  object \n",
      " 1   OFFER_START_DTTM           48746 non-null  object \n",
      " 2   OFFER_FINISH_DTTM          48746 non-null  object \n",
      " 3   OFFER_TYPE                 48746 non-null  object \n",
      " 4   INVOLVED_STOCK             48746 non-null  int64  \n",
      " 5   REMAINING_STOCK_AFTER_END  48746 non-null  int64  \n",
      " 6   SOLD_AMOUNT                24579 non-null  float64\n",
      " 7   SOLD_QUANTITY              24579 non-null  float64\n",
      " 8   ORIGIN                     11316 non-null  object \n",
      " 9   SHIPPING_PAYMENT_TYPE      48746 non-null  object \n",
      " 10  DOM_DOMAIN_AGG1            48746 non-null  object \n",
      " 11  VERTICAL                   48746 non-null  object \n",
      " 12  DOMAIN_ID                  48746 non-null  object \n",
      "dtypes: float64(2), int64(2), object(9)\n",
      "memory usage: 4.8+ MB\n"
     ]
    }
   ],
   "source": [
    "#Detalhamento das variáveis\n",
    "df.info()   #Volumetria: 48746 observações\n",
    "            #Colunas (variáveis): 12"
   ]
  },
  {
   "cell_type": "markdown",
   "id": "22aadcc4-1d78-4da3-95af-fe1eeaa87620",
   "metadata": {},
   "source": [
    "## Entendendo as variáveis"
   ]
  },
  {
   "cell_type": "code",
   "execution_count": 4,
   "id": "38156a85-25a0-43aa-835c-a096fde2c17b",
   "metadata": {},
   "outputs": [
    {
     "data": {
      "text/plain": [
       "61"
      ]
     },
     "execution_count": 4,
     "metadata": {},
     "output_type": "execute_result"
    }
   ],
   "source": [
    "#Variável - OFFER_START_DATE\t\n",
    "df['OFFER_START_DATE'].drop_duplicates().shape[0] #61 dias de oferta relâmpago"
   ]
  },
  {
   "cell_type": "markdown",
   "id": "56226624-1c1b-4219-887a-54e62b19a444",
   "metadata": {},
   "source": [
    "### Variáveis categóricas"
   ]
  },
  {
   "cell_type": "code",
   "execution_count": 5,
   "id": "1176242f-2157-44a5-8465-d9033841b1db",
   "metadata": {},
   "outputs": [
    {
     "data": {
      "text/plain": [
       "OFFER_TYPE\n",
       "lightning_deal    48746\n",
       "Name: count, dtype: int64"
      ]
     },
     "execution_count": 5,
     "metadata": {},
     "output_type": "execute_result"
    }
   ],
   "source": [
    "#Variável - OFFER_TYPE \n",
    "df['OFFER_TYPE'].value_counts() #Todas foram lightning_deal (oferta relâmpago) - esta variável pode ser descartada no estudo descritivo"
   ]
  },
  {
   "cell_type": "code",
   "execution_count": 6,
   "id": "b9ad0ec1-519d-4a52-955e-cee644503aba",
   "metadata": {},
   "outputs": [
    {
     "data": {
      "text/plain": [
       "ORIGIN\n",
       "A    11316\n",
       "Name: count, dtype: int64"
      ]
     },
     "execution_count": 6,
     "metadata": {},
     "output_type": "execute_result"
    }
   ],
   "source": [
    "#Variável - ORIGIN\n",
    "df['ORIGIN'].value_counts() #Classe A foi a mais frequente (Variável com alta incidência de missing values)"
   ]
  },
  {
   "cell_type": "code",
   "execution_count": 7,
   "id": "7f6d260a-02fe-4630-a925-7230457eac74",
   "metadata": {},
   "outputs": [
    {
     "data": {
      "text/plain": [
       "SHIPPING_PAYMENT_TYPE\n",
       "free_shipping    26658\n",
       "none             22088\n",
       "Name: count, dtype: int64"
      ]
     },
     "execution_count": 7,
     "metadata": {},
     "output_type": "execute_result"
    }
   ],
   "source": [
    "#Variável - SHIPPING_PAYMENT_TYPE\n",
    "df['SHIPPING_PAYMENT_TYPE'].value_counts() #free_shipping (frete grátis) vs none (frete pago)"
   ]
  },
  {
   "cell_type": "code",
   "execution_count": 8,
   "id": "d57ff499-d234-4f75-b8e8-3a21014e88cd",
   "metadata": {},
   "outputs": [
    {
     "data": {
      "text/plain": [
       "DOM_DOMAIN_AGG1\n",
       "HOME&DECOR            13.8\n",
       "APPAREL ACCESORIES     9.0\n",
       "APPAREL                7.9\n",
       "COMPUTERS              7.7\n",
       "SPORTS                 6.7\n",
       "Name: proportion, dtype: float64"
      ]
     },
     "execution_count": 8,
     "metadata": {},
     "output_type": "execute_result"
    }
   ],
   "source": [
    "#Variável - DOM_DOMAIN_AGG1 --Tipo de produto comercializado (várias classes)\n",
    "round(100 * df['DOM_DOMAIN_AGG1'].value_counts(True),1).head() "
   ]
  },
  {
   "cell_type": "markdown",
   "id": "857e8984-44bc-4f74-ace2-90415df44bae",
   "metadata": {},
   "source": [
    "* **Classes com mais representatividade (%)**\n",
    "1. HOME&DECOR                      13.8\n",
    "2. APPAREL ACCESORIES               9.0 (ACESSÓRIOS DE VESTUÁRIO)\n",
    "3. APPAREL                          7.9\n",
    "4. COMPUTERS                        7.7\n",
    "5. SPORTS                           6.7\n",
    "6. PHARMACEUTICS                    6.2\n",
    "7. ELECTRONICS                      6.2\n",
    "8. PERSONAL CARE                    6.2"
   ]
  },
  {
   "cell_type": "code",
   "execution_count": 10,
   "id": "a46cdd90-6a75-4792-872b-babf19283ca0",
   "metadata": {},
   "outputs": [
    {
     "data": {
      "text/plain": [
       "64.0"
      ]
     },
     "execution_count": 10,
     "metadata": {},
     "output_type": "execute_result"
    }
   ],
   "source": [
    "#Estas 8 classes tem aproximadamente 64% do total de casos\n",
    "round(13.8 + 9.0 + 7.9 + 7.7 + 6.7 + 6.2 + 6.2 + 6.2,0) "
   ]
  },
  {
   "cell_type": "code",
   "execution_count": 14,
   "id": "8a08d29e-6620-45f1-88e2-d2066b0d3a6d",
   "metadata": {},
   "outputs": [
    {
     "data": {
      "text/plain": [
       "VERTICAL\n",
       "APP & SPORTS       27.2\n",
       "HOME & INDUSTRY    22.6\n",
       "CE                 17.7\n",
       "BEAUTY & HEALTH    14.7\n",
       "CPG                 5.6\n",
       "T & B               5.4\n",
       "ACC                 5.3\n",
       "ENTERTAINMENT       1.1\n",
       "OTHERS              0.6\n",
       "Name: proportion, dtype: float64"
      ]
     },
     "execution_count": 14,
     "metadata": {},
     "output_type": "execute_result"
    }
   ],
   "source": [
    "#Variável - VERTICAL\n",
    "round(100 * df['VERTICAL'].value_counts(True),1) #Pode ser visto como uma agregação da variável DOM_DOMAIN_AGG1"
   ]
  },
  {
   "cell_type": "code",
   "execution_count": 15,
   "id": "88890537-bd0c-4f1c-b965-19fb7d32b629",
   "metadata": {},
   "outputs": [
    {
     "data": {
      "text/plain": [
       "82.2"
      ]
     },
     "execution_count": 15,
     "metadata": {},
     "output_type": "execute_result"
    }
   ],
   "source": [
    "#As classes APP & SPORTS, HOME & INDUSTRY, CE e BEAUTY & HEALTH \n",
    "27.2 + 22.6 + 17.7 + 14.7 #82.2% dos dados"
   ]
  },
  {
   "cell_type": "code",
   "execution_count": 16,
   "id": "f9b440a3-4009-41f3-a08f-9c7433eba9f2",
   "metadata": {},
   "outputs": [
    {
     "data": {
      "text/plain": [
       "1266"
      ]
     },
     "execution_count": 16,
     "metadata": {},
     "output_type": "execute_result"
    }
   ],
   "source": [
    "#Variável - DOMAIN_ID\n",
    "df['DOMAIN_ID'].value_counts().shape[0] #1266 (muitas classes)"
   ]
  },
  {
   "cell_type": "code",
   "execution_count": 17,
   "id": "7f338322-eee8-4b68-ad7e-7ee188c7c882",
   "metadata": {},
   "outputs": [
    {
     "data": {
      "text/plain": [
       "DOMAIN_ID\n",
       "MLM-SURGICAL_AND_INDUSTRIAL_MASKS    1759\n",
       "MLM-HEADPHONES                        761\n",
       "MLM-LED_STRIPS                        518\n",
       "MLM-SUNGLASSES                        472\n",
       "MLM-VEHICLE_LED_BULBS                 454\n",
       "Name: count, dtype: int64"
      ]
     },
     "execution_count": 17,
     "metadata": {},
     "output_type": "execute_result"
    }
   ],
   "source": [
    "#Variável - DOMAIN_ID\n",
    "df['DOMAIN_ID'].value_counts().head() #Principal: MLM-SURGICAL_AND_INDUSTRIAL_MASKS"
   ]
  },
  {
   "cell_type": "markdown",
   "id": "fd656c29-810a-43f9-b8b3-929d8bf30692",
   "metadata": {},
   "source": [
    "# 2 - Data wrangling & Feature Engineering"
   ]
  },
  {
   "cell_type": "code",
   "execution_count": 18,
   "id": "a0a65816-f40d-4e02-bd54-9ea3bd77c4d0",
   "metadata": {},
   "outputs": [],
   "source": [
    "#OFFER_START_DATE no formato de data\n",
    "df['OFFER_START_DATE'] = pd.to_datetime(df.OFFER_START_DATE, format = '%Y-%m-%d')"
   ]
  },
  {
   "cell_type": "code",
   "execution_count": 19,
   "id": "f969acf8-bfcc-4540-9942-2c24446618a6",
   "metadata": {},
   "outputs": [],
   "source": [
    "#Criar a variável SAFRA: Mês da promoção\n",
    "df['SAFRA'] = df['OFFER_START_DATE'].dt.to_period('M')\n",
    "#Casting para string\n",
    "df = df.astype({'SAFRA': 'string'})"
   ]
  },
  {
   "cell_type": "code",
   "execution_count": 20,
   "id": "0cd868b5-b491-4cb9-b450-1bfd7a1b5cd5",
   "metadata": {},
   "outputs": [],
   "source": [
    "#Converte as colunas para datetime\n",
    "df['OFFER_START_DTTM'] = pd.to_datetime(df['OFFER_START_DTTM'])\n",
    "df['OFFER_FINISH_DTTM'] = pd.to_datetime(df['OFFER_FINISH_DTTM'])"
   ]
  },
  {
   "cell_type": "code",
   "execution_count": 21,
   "id": "cf03fa91-08c0-4946-a9d9-ebb066820c3f",
   "metadata": {},
   "outputs": [],
   "source": [
    "#Criar a variável DURACAO, duração da promoção (medido em horas)\n",
    "df['DURACAO'] = ((df['OFFER_FINISH_DTTM'] - df['OFFER_START_DTTM']).dt.total_seconds() / 3600).round(2)"
   ]
  },
  {
   "cell_type": "code",
   "execution_count": 22,
   "id": "fdacd3cd-f6ca-4527-8a07-0db780b2439f",
   "metadata": {},
   "outputs": [],
   "source": [
    "#Criar a variável DIA_SEMANA\n",
    "dias_semana_traducao = {\n",
    "    'Monday': 'segunda',\n",
    "    'Tuesday': 'terca',\n",
    "    'Wednesday': 'quarta',\n",
    "    'Thursday': 'quinta',\n",
    "    'Friday': 'sexta',\n",
    "    'Saturday': 'sabado',\n",
    "    'Sunday': 'domingo'\n",
    "}\n",
    "\n",
    "df['DIA_SEMANA'] = df['OFFER_START_DTTM'].dt.day_name().map(dias_semana_traducao)"
   ]
  },
  {
   "cell_type": "code",
   "execution_count": 23,
   "id": "ea3727a3-269b-4c27-a3af-7d08d2be29d2",
   "metadata": {},
   "outputs": [],
   "source": [
    "#FLAG_N_VENDEU: 1 se SOLD_AMOUNT é nulo, 0 caso contrário\n",
    "df['FLAG_N_VENDEU'] = np.where(df['SOLD_AMOUNT'].isna(), 1, 0).astype(int)"
   ]
  },
  {
   "cell_type": "code",
   "execution_count": 24,
   "id": "51500d17-c42e-4f19-a71d-aaa9742460e3",
   "metadata": {},
   "outputs": [],
   "source": [
    "#Criar a variável VENDA_POR_HORA com duas casas decimais - quanto maior o valor da variável, maior a saída do produto\n",
    "df['VENDA_POR_HORA'] = (df['SOLD_AMOUNT'] / df['DURACAO']).round(2)"
   ]
  },
  {
   "cell_type": "code",
   "execution_count": 26,
   "id": "96e534d8-914d-4803-9016-5d60147c91ef",
   "metadata": {},
   "outputs": [],
   "source": [
    "#FLAG_ESTOQUE_NEGATIVO: 1 se o estoque final for negativo, 0 caso contrário\n",
    "df['FLAG_ESTOQUE_NEGATIVO'] = (df['REMAINING_STOCK_AFTER_END'] < 0).astype(int)"
   ]
  },
  {
   "cell_type": "code",
   "execution_count": 27,
   "id": "e316673b-20a7-41e4-9fb9-66a51810bb7b",
   "metadata": {},
   "outputs": [],
   "source": [
    "#Criar a variável RECEITA_PROMOCAO\n",
    "df['RECEITA_PROMOCAO'] = (df['SOLD_AMOUNT'] * df['SOLD_QUANTITY']).fillna(0)"
   ]
  },
  {
   "cell_type": "code",
   "execution_count": 28,
   "id": "08b9a12e-c595-4c00-a816-758377ed28ec",
   "metadata": {},
   "outputs": [
    {
     "data": {
      "text/html": [
       "<div>\n",
       "<style scoped>\n",
       "    .dataframe tbody tr th:only-of-type {\n",
       "        vertical-align: middle;\n",
       "    }\n",
       "\n",
       "    .dataframe tbody tr th {\n",
       "        vertical-align: top;\n",
       "    }\n",
       "\n",
       "    .dataframe thead th {\n",
       "        text-align: right;\n",
       "    }\n",
       "</style>\n",
       "<table border=\"1\" class=\"dataframe\">\n",
       "  <thead>\n",
       "    <tr style=\"text-align: right;\">\n",
       "      <th></th>\n",
       "      <th>OFFER_START_DATE</th>\n",
       "      <th>OFFER_START_DTTM</th>\n",
       "      <th>OFFER_FINISH_DTTM</th>\n",
       "      <th>OFFER_TYPE</th>\n",
       "      <th>INVOLVED_STOCK</th>\n",
       "      <th>REMAINING_STOCK_AFTER_END</th>\n",
       "      <th>SOLD_AMOUNT</th>\n",
       "      <th>SOLD_QUANTITY</th>\n",
       "      <th>ORIGIN</th>\n",
       "      <th>SHIPPING_PAYMENT_TYPE</th>\n",
       "      <th>DOM_DOMAIN_AGG1</th>\n",
       "      <th>VERTICAL</th>\n",
       "      <th>DOMAIN_ID</th>\n",
       "      <th>SAFRA</th>\n",
       "      <th>DURACAO</th>\n",
       "      <th>DIA_SEMANA</th>\n",
       "      <th>FLAG_N_VENDEU</th>\n",
       "      <th>VENDA_POR_HORA</th>\n",
       "      <th>FLAG_ESTOQUE_NEGATIVO</th>\n",
       "      <th>RECEITA_PROMOCAO</th>\n",
       "    </tr>\n",
       "  </thead>\n",
       "  <tbody>\n",
       "    <tr>\n",
       "      <th>0</th>\n",
       "      <td>2021-06-22</td>\n",
       "      <td>2021-06-22 16:00:00+00:00</td>\n",
       "      <td>2021-06-22 23:02:43+00:00</td>\n",
       "      <td>lightning_deal</td>\n",
       "      <td>4</td>\n",
       "      <td>-2</td>\n",
       "      <td>4.72</td>\n",
       "      <td>6.0</td>\n",
       "      <td>A</td>\n",
       "      <td>none</td>\n",
       "      <td>PETS FOOD</td>\n",
       "      <td>CPG</td>\n",
       "      <td>MLM-BIRD_FOODS</td>\n",
       "      <td>2021-06</td>\n",
       "      <td>7.05</td>\n",
       "      <td>terca</td>\n",
       "      <td>0</td>\n",
       "      <td>0.67</td>\n",
       "      <td>1</td>\n",
       "      <td>28.32</td>\n",
       "    </tr>\n",
       "    <tr>\n",
       "      <th>1</th>\n",
       "      <td>2021-06-22</td>\n",
       "      <td>2021-06-22 13:00:00+00:00</td>\n",
       "      <td>2021-06-22 19:00:02+00:00</td>\n",
       "      <td>lightning_deal</td>\n",
       "      <td>5</td>\n",
       "      <td>5</td>\n",
       "      <td>NaN</td>\n",
       "      <td>NaN</td>\n",
       "      <td>NaN</td>\n",
       "      <td>free_shipping</td>\n",
       "      <td>PET PRODUCTS</td>\n",
       "      <td>OTHERS</td>\n",
       "      <td>MLM-ANIMAL_AND_PET_PRODUCTS</td>\n",
       "      <td>2021-06</td>\n",
       "      <td>6.00</td>\n",
       "      <td>terca</td>\n",
       "      <td>1</td>\n",
       "      <td>NaN</td>\n",
       "      <td>0</td>\n",
       "      <td>0.00</td>\n",
       "    </tr>\n",
       "    <tr>\n",
       "      <th>2</th>\n",
       "      <td>2021-06-22</td>\n",
       "      <td>2021-06-22 07:00:00+00:00</td>\n",
       "      <td>2021-06-22 13:00:01+00:00</td>\n",
       "      <td>lightning_deal</td>\n",
       "      <td>15</td>\n",
       "      <td>12</td>\n",
       "      <td>10.73</td>\n",
       "      <td>3.0</td>\n",
       "      <td>NaN</td>\n",
       "      <td>none</td>\n",
       "      <td>COMPUTERS</td>\n",
       "      <td>CE</td>\n",
       "      <td>MLM-SPEAKERS</td>\n",
       "      <td>2021-06</td>\n",
       "      <td>6.00</td>\n",
       "      <td>terca</td>\n",
       "      <td>0</td>\n",
       "      <td>1.79</td>\n",
       "      <td>0</td>\n",
       "      <td>32.19</td>\n",
       "    </tr>\n",
       "  </tbody>\n",
       "</table>\n",
       "</div>"
      ],
      "text/plain": [
       "  OFFER_START_DATE          OFFER_START_DTTM         OFFER_FINISH_DTTM  \\\n",
       "0       2021-06-22 2021-06-22 16:00:00+00:00 2021-06-22 23:02:43+00:00   \n",
       "1       2021-06-22 2021-06-22 13:00:00+00:00 2021-06-22 19:00:02+00:00   \n",
       "2       2021-06-22 2021-06-22 07:00:00+00:00 2021-06-22 13:00:01+00:00   \n",
       "\n",
       "       OFFER_TYPE  INVOLVED_STOCK  REMAINING_STOCK_AFTER_END  SOLD_AMOUNT  \\\n",
       "0  lightning_deal               4                         -2         4.72   \n",
       "1  lightning_deal               5                          5          NaN   \n",
       "2  lightning_deal              15                         12        10.73   \n",
       "\n",
       "   SOLD_QUANTITY ORIGIN SHIPPING_PAYMENT_TYPE DOM_DOMAIN_AGG1 VERTICAL  \\\n",
       "0            6.0      A                  none       PETS FOOD      CPG   \n",
       "1            NaN    NaN         free_shipping    PET PRODUCTS   OTHERS   \n",
       "2            3.0    NaN                  none       COMPUTERS       CE   \n",
       "\n",
       "                     DOMAIN_ID    SAFRA  DURACAO DIA_SEMANA  FLAG_N_VENDEU  \\\n",
       "0               MLM-BIRD_FOODS  2021-06     7.05      terca              0   \n",
       "1  MLM-ANIMAL_AND_PET_PRODUCTS  2021-06     6.00      terca              1   \n",
       "2                 MLM-SPEAKERS  2021-06     6.00      terca              0   \n",
       "\n",
       "   VENDA_POR_HORA  FLAG_ESTOQUE_NEGATIVO  RECEITA_PROMOCAO  \n",
       "0            0.67                      1             28.32  \n",
       "1             NaN                      0              0.00  \n",
       "2            1.79                      0             32.19  "
      ]
     },
     "execution_count": 28,
     "metadata": {},
     "output_type": "execute_result"
    }
   ],
   "source": [
    "#Visualização\n",
    "df.head(3) #7 variáveis foram criadas (Gera um CSV com as variáveis criadas)"
   ]
  },
  {
   "cell_type": "markdown",
   "id": "c9cfe156-96a7-48f8-aa2f-03ce4ad77552",
   "metadata": {},
   "source": [
    "# 3 - EDA"
   ]
  },
  {
   "cell_type": "code",
   "execution_count": 41,
   "id": "07c72db3-918a-4b0f-930f-8d97c34f44ab",
   "metadata": {},
   "outputs": [
    {
     "data": {
      "text/plain": [
       "DIA_SEMANA\n",
       "sexta     15.90\n",
       "sabado    15.40\n",
       "terca     15.00\n",
       "quinta    14.90\n",
       "quarta    13.80\n",
       "segunda   12.90\n",
       "domingo   12.00\n",
       "Name: proportion, dtype: float64"
      ]
     },
     "execution_count": 41,
     "metadata": {},
     "output_type": "execute_result"
    }
   ],
   "source": [
    "#Volume de promoções por dia da semana\n",
    "round(100 * df['DIA_SEMANA'].value_counts(True),1) "
   ]
  },
  {
   "cell_type": "code",
   "execution_count": 43,
   "id": "2ad2dcb9-0bac-4e36-8599-0f29b869b3e6",
   "metadata": {},
   "outputs": [
    {
     "data": {
      "text/html": [
       "<div>\n",
       "<style scoped>\n",
       "    .dataframe tbody tr th:only-of-type {\n",
       "        vertical-align: middle;\n",
       "    }\n",
       "\n",
       "    .dataframe tbody tr th {\n",
       "        vertical-align: top;\n",
       "    }\n",
       "\n",
       "    .dataframe thead th {\n",
       "        text-align: right;\n",
       "    }\n",
       "</style>\n",
       "<table border=\"1\" class=\"dataframe\">\n",
       "  <thead>\n",
       "    <tr style=\"text-align: right;\">\n",
       "      <th></th>\n",
       "      <th>DIA_SEMANA</th>\n",
       "      <th>QUANTIDADE_MEDIA_VENDIDA_DIA</th>\n",
       "      <th>RECEITA_MEDIA_VENDIDA_DIA</th>\n",
       "    </tr>\n",
       "  </thead>\n",
       "  <tbody>\n",
       "    <tr>\n",
       "      <th>0</th>\n",
       "      <td>domingo</td>\n",
       "      <td>7.09</td>\n",
       "      <td>831.64</td>\n",
       "    </tr>\n",
       "    <tr>\n",
       "      <th>1</th>\n",
       "      <td>quarta</td>\n",
       "      <td>12.23</td>\n",
       "      <td>4,227.72</td>\n",
       "    </tr>\n",
       "    <tr>\n",
       "      <th>2</th>\n",
       "      <td>quinta</td>\n",
       "      <td>11.15</td>\n",
       "      <td>2,739.53</td>\n",
       "    </tr>\n",
       "    <tr>\n",
       "      <th>3</th>\n",
       "      <td>sabado</td>\n",
       "      <td>8.33</td>\n",
       "      <td>1,437.12</td>\n",
       "    </tr>\n",
       "    <tr>\n",
       "      <th>4</th>\n",
       "      <td>segunda</td>\n",
       "      <td>13.54</td>\n",
       "      <td>5,754.72</td>\n",
       "    </tr>\n",
       "    <tr>\n",
       "      <th>5</th>\n",
       "      <td>sexta</td>\n",
       "      <td>9.95</td>\n",
       "      <td>2,275.72</td>\n",
       "    </tr>\n",
       "    <tr>\n",
       "      <th>6</th>\n",
       "      <td>terca</td>\n",
       "      <td>12.99</td>\n",
       "      <td>4,715.82</td>\n",
       "    </tr>\n",
       "  </tbody>\n",
       "</table>\n",
       "</div>"
      ],
      "text/plain": [
       "  DIA_SEMANA  QUANTIDADE_MEDIA_VENDIDA_DIA  RECEITA_MEDIA_VENDIDA_DIA\n",
       "0    domingo                          7.09                     831.64\n",
       "1     quarta                         12.23                   4,227.72\n",
       "2     quinta                         11.15                   2,739.53\n",
       "3     sabado                          8.33                   1,437.12\n",
       "4    segunda                         13.54                   5,754.72\n",
       "5      sexta                          9.95                   2,275.72\n",
       "6      terca                         12.99                   4,715.82"
      ]
     },
     "execution_count": 43,
     "metadata": {},
     "output_type": "execute_result"
    }
   ],
   "source": [
    "vendas_por_dia = df.groupby('DIA_SEMANA', as_index=False).agg({\n",
    "    'SOLD_QUANTITY': 'mean',\n",
    "    'RECEITA_PROMOCAO': 'mean'\n",
    "}).round(2)\n",
    "\n",
    "# Renomeando as colunas\n",
    "vendas_por_dia.rename(columns={\n",
    "    'SOLD_QUANTITY': 'QUANTIDADE_MEDIA_VENDIDA_DIA',\n",
    "    'RECEITA_PROMOCAO': 'RECEITA_MEDIA_VENDIDA_DIA'\n",
    "}, inplace=True)\n",
    "\n",
    "vendas_por_dia"
   ]
  },
  {
   "cell_type": "code",
   "execution_count": 29,
   "id": "35940dba-d9aa-4014-ac7a-544d0f6381de",
   "metadata": {},
   "outputs": [
    {
     "data": {
      "text/plain": [
       "0      2021-06\n",
       "847    2021-07\n",
       "Name: SAFRA, dtype: string"
      ]
     },
     "execution_count": 29,
     "metadata": {},
     "output_type": "execute_result"
    }
   ],
   "source": [
    "#Meses disponíveis\n",
    "df['SAFRA'].drop_duplicates() #Meses de junho e julho de 2021"
   ]
  },
  {
   "cell_type": "code",
   "execution_count": 35,
   "id": "79b933cf-8005-4411-8a92-c75217e9dfcb",
   "metadata": {},
   "outputs": [
    {
     "data": {
      "text/plain": [
       "SAFRA\n",
       "2021-06    18336\n",
       "2021-07    30410\n",
       "Name: count, dtype: Int64"
      ]
     },
     "execution_count": 35,
     "metadata": {},
     "output_type": "execute_result"
    }
   ],
   "source": [
    "#Volumetria de promoções por mês \n",
    "df['SAFRA'].value_counts().sort_index()"
   ]
  },
  {
   "cell_type": "code",
   "execution_count": 33,
   "id": "b16a2bd7-3f80-4210-9487-5d119632530c",
   "metadata": {},
   "outputs": [
    {
     "data": {
      "text/html": [
       "<div>\n",
       "<style scoped>\n",
       "    .dataframe tbody tr th:only-of-type {\n",
       "        vertical-align: middle;\n",
       "    }\n",
       "\n",
       "    .dataframe tbody tr th {\n",
       "        vertical-align: top;\n",
       "    }\n",
       "\n",
       "    .dataframe thead th {\n",
       "        text-align: right;\n",
       "    }\n",
       "</style>\n",
       "<table border=\"1\" class=\"dataframe\">\n",
       "  <thead>\n",
       "    <tr style=\"text-align: right;\">\n",
       "      <th></th>\n",
       "      <th>SAFRA</th>\n",
       "      <th>SOLD_QUANTITY</th>\n",
       "      <th>RECEITA_PROMOCAO</th>\n",
       "    </tr>\n",
       "  </thead>\n",
       "  <tbody>\n",
       "    <tr>\n",
       "      <th>0</th>\n",
       "      <td>2021-06</td>\n",
       "      <td>87,726.00</td>\n",
       "      <td>31,212,125.51</td>\n",
       "    </tr>\n",
       "    <tr>\n",
       "      <th>1</th>\n",
       "      <td>2021-07</td>\n",
       "      <td>178,982.00</td>\n",
       "      <td>121,302,214.36</td>\n",
       "    </tr>\n",
       "  </tbody>\n",
       "</table>\n",
       "</div>"
      ],
      "text/plain": [
       "     SAFRA  SOLD_QUANTITY  RECEITA_PROMOCAO\n",
       "0  2021-06      87,726.00     31,212,125.51\n",
       "1  2021-07     178,982.00    121,302,214.36"
      ]
     },
     "execution_count": 33,
     "metadata": {},
     "output_type": "execute_result"
    }
   ],
   "source": [
    "#Quantidade vendida e receita nos meses (absoluto)\n",
    "vendas_por_mes = df.groupby('SAFRA', as_index=False).agg({\n",
    "    'SOLD_QUANTITY': 'sum',\n",
    "    'RECEITA_PROMOCAO': 'sum'\n",
    "})\n",
    "\n",
    "vendas_por_mes"
   ]
  },
  {
   "cell_type": "markdown",
   "id": "2646145c-e412-469a-bb32-ac3a71fbe82e",
   "metadata": {},
   "source": [
    "**Produtos que não venderam na promoção**"
   ]
  },
  {
   "cell_type": "code",
   "execution_count": 36,
   "id": "d7f38dff-fa31-4a02-b1da-5a65585f5472",
   "metadata": {},
   "outputs": [
    {
     "data": {
      "text/html": [
       "<div>\n",
       "<style scoped>\n",
       "    .dataframe tbody tr th:only-of-type {\n",
       "        vertical-align: middle;\n",
       "    }\n",
       "\n",
       "    .dataframe tbody tr th {\n",
       "        vertical-align: top;\n",
       "    }\n",
       "\n",
       "    .dataframe thead th {\n",
       "        text-align: right;\n",
       "    }\n",
       "</style>\n",
       "<table border=\"1\" class=\"dataframe\">\n",
       "  <thead>\n",
       "    <tr style=\"text-align: right;\">\n",
       "      <th></th>\n",
       "      <th>SAFRA</th>\n",
       "      <th>FLAG_N_VENDEU</th>\n",
       "    </tr>\n",
       "  </thead>\n",
       "  <tbody>\n",
       "    <tr>\n",
       "      <th>0</th>\n",
       "      <td>2021-06</td>\n",
       "      <td>9406</td>\n",
       "    </tr>\n",
       "    <tr>\n",
       "      <th>1</th>\n",
       "      <td>2021-07</td>\n",
       "      <td>14761</td>\n",
       "    </tr>\n",
       "  </tbody>\n",
       "</table>\n",
       "</div>"
      ],
      "text/plain": [
       "     SAFRA  FLAG_N_VENDEU\n",
       "0  2021-06           9406\n",
       "1  2021-07          14761"
      ]
     },
     "execution_count": 36,
     "metadata": {},
     "output_type": "execute_result"
    }
   ],
   "source": [
    "#Não vendeu por safra\n",
    "nao_vendeu_por_safra = df.groupby('SAFRA', as_index=False)['FLAG_N_VENDEU'].sum()\n",
    "nao_vendeu_por_safra"
   ]
  },
  {
   "cell_type": "code",
   "execution_count": 37,
   "id": "f4d314b8-406a-42de-b708-53a90418e1b2",
   "metadata": {},
   "outputs": [
    {
     "data": {
      "text/html": [
       "<div>\n",
       "<style scoped>\n",
       "    .dataframe tbody tr th:only-of-type {\n",
       "        vertical-align: middle;\n",
       "    }\n",
       "\n",
       "    .dataframe tbody tr th {\n",
       "        vertical-align: top;\n",
       "    }\n",
       "\n",
       "    .dataframe thead th {\n",
       "        text-align: right;\n",
       "    }\n",
       "</style>\n",
       "<table border=\"1\" class=\"dataframe\">\n",
       "  <thead>\n",
       "    <tr style=\"text-align: right;\">\n",
       "      <th></th>\n",
       "      <th>OFFER_START_DATE</th>\n",
       "      <th>OFFER_START_DTTM</th>\n",
       "      <th>OFFER_FINISH_DTTM</th>\n",
       "      <th>OFFER_TYPE</th>\n",
       "      <th>INVOLVED_STOCK</th>\n",
       "      <th>REMAINING_STOCK_AFTER_END</th>\n",
       "      <th>SOLD_AMOUNT</th>\n",
       "      <th>SOLD_QUANTITY</th>\n",
       "      <th>ORIGIN</th>\n",
       "      <th>SHIPPING_PAYMENT_TYPE</th>\n",
       "      <th>DOM_DOMAIN_AGG1</th>\n",
       "      <th>VERTICAL</th>\n",
       "      <th>DOMAIN_ID</th>\n",
       "      <th>SAFRA</th>\n",
       "      <th>DURACAO</th>\n",
       "      <th>DIA_SEMANA</th>\n",
       "      <th>FLAG_N_VENDEU</th>\n",
       "      <th>VENDA_POR_HORA</th>\n",
       "      <th>FLAG_ESTOQUE_NEGATIVO</th>\n",
       "      <th>RECEITA_PROMOCAO</th>\n",
       "    </tr>\n",
       "  </thead>\n",
       "  <tbody>\n",
       "    <tr>\n",
       "      <th>1</th>\n",
       "      <td>2021-06-22</td>\n",
       "      <td>2021-06-22 13:00:00+00:00</td>\n",
       "      <td>2021-06-22 19:00:02+00:00</td>\n",
       "      <td>lightning_deal</td>\n",
       "      <td>5</td>\n",
       "      <td>5</td>\n",
       "      <td>NaN</td>\n",
       "      <td>NaN</td>\n",
       "      <td>NaN</td>\n",
       "      <td>free_shipping</td>\n",
       "      <td>PET PRODUCTS</td>\n",
       "      <td>OTHERS</td>\n",
       "      <td>MLM-ANIMAL_AND_PET_PRODUCTS</td>\n",
       "      <td>2021-06</td>\n",
       "      <td>6.00</td>\n",
       "      <td>terca</td>\n",
       "      <td>1</td>\n",
       "      <td>NaN</td>\n",
       "      <td>0</td>\n",
       "      <td>0.00</td>\n",
       "    </tr>\n",
       "    <tr>\n",
       "      <th>5</th>\n",
       "      <td>2021-06-22</td>\n",
       "      <td>2021-06-22 18:00:00+00:00</td>\n",
       "      <td>2021-06-23 01:00:12+00:00</td>\n",
       "      <td>lightning_deal</td>\n",
       "      <td>23</td>\n",
       "      <td>23</td>\n",
       "      <td>NaN</td>\n",
       "      <td>NaN</td>\n",
       "      <td>A</td>\n",
       "      <td>free_shipping</td>\n",
       "      <td>COMPUTERS</td>\n",
       "      <td>CE</td>\n",
       "      <td>MLM-HEADPHONES</td>\n",
       "      <td>2021-06</td>\n",
       "      <td>7.00</td>\n",
       "      <td>terca</td>\n",
       "      <td>1</td>\n",
       "      <td>NaN</td>\n",
       "      <td>0</td>\n",
       "      <td>0.00</td>\n",
       "    </tr>\n",
       "  </tbody>\n",
       "</table>\n",
       "</div>"
      ],
      "text/plain": [
       "  OFFER_START_DATE          OFFER_START_DTTM         OFFER_FINISH_DTTM  \\\n",
       "1       2021-06-22 2021-06-22 13:00:00+00:00 2021-06-22 19:00:02+00:00   \n",
       "5       2021-06-22 2021-06-22 18:00:00+00:00 2021-06-23 01:00:12+00:00   \n",
       "\n",
       "       OFFER_TYPE  INVOLVED_STOCK  REMAINING_STOCK_AFTER_END  SOLD_AMOUNT  \\\n",
       "1  lightning_deal               5                          5          NaN   \n",
       "5  lightning_deal              23                         23          NaN   \n",
       "\n",
       "   SOLD_QUANTITY ORIGIN SHIPPING_PAYMENT_TYPE DOM_DOMAIN_AGG1 VERTICAL  \\\n",
       "1            NaN    NaN         free_shipping    PET PRODUCTS   OTHERS   \n",
       "5            NaN      A         free_shipping       COMPUTERS       CE   \n",
       "\n",
       "                     DOMAIN_ID    SAFRA  DURACAO DIA_SEMANA  FLAG_N_VENDEU  \\\n",
       "1  MLM-ANIMAL_AND_PET_PRODUCTS  2021-06     6.00      terca              1   \n",
       "5               MLM-HEADPHONES  2021-06     7.00      terca              1   \n",
       "\n",
       "   VENDA_POR_HORA  FLAG_ESTOQUE_NEGATIVO  RECEITA_PROMOCAO  \n",
       "1             NaN                      0              0.00  \n",
       "5             NaN                      0              0.00  "
      ]
     },
     "execution_count": 37,
     "metadata": {},
     "output_type": "execute_result"
    }
   ],
   "source": [
    "n_vendeu = df.loc[df.FLAG_N_VENDEU ==1]\n",
    "#Visualização\n",
    "n_vendeu.head(2)"
   ]
  },
  {
   "cell_type": "code",
   "execution_count": 38,
   "id": "557adeef-e8f8-49f9-b7f2-36add05f05d7",
   "metadata": {},
   "outputs": [
    {
     "name": "stdout",
     "output_type": "stream",
     "text": [
      "<class 'pandas.core.frame.DataFrame'>\n",
      "Index: 24167 entries, 1 to 48745\n",
      "Data columns (total 20 columns):\n",
      " #   Column                     Non-Null Count  Dtype              \n",
      "---  ------                     --------------  -----              \n",
      " 0   OFFER_START_DATE           24167 non-null  datetime64[ns]     \n",
      " 1   OFFER_START_DTTM           24167 non-null  datetime64[ns, UTC]\n",
      " 2   OFFER_FINISH_DTTM          24167 non-null  datetime64[ns, UTC]\n",
      " 3   OFFER_TYPE                 24167 non-null  object             \n",
      " 4   INVOLVED_STOCK             24167 non-null  int64              \n",
      " 5   REMAINING_STOCK_AFTER_END  24167 non-null  int64              \n",
      " 6   SOLD_AMOUNT                0 non-null      float64            \n",
      " 7   SOLD_QUANTITY              0 non-null      float64            \n",
      " 8   ORIGIN                     6108 non-null   object             \n",
      " 9   SHIPPING_PAYMENT_TYPE      24167 non-null  object             \n",
      " 10  DOM_DOMAIN_AGG1            24167 non-null  object             \n",
      " 11  VERTICAL                   24167 non-null  object             \n",
      " 12  DOMAIN_ID                  24167 non-null  object             \n",
      " 13  SAFRA                      24167 non-null  string             \n",
      " 14  DURACAO                    24167 non-null  float64            \n",
      " 15  DIA_SEMANA                 24167 non-null  object             \n",
      " 16  FLAG_N_VENDEU              24167 non-null  int64              \n",
      " 17  VENDA_POR_HORA             0 non-null      float64            \n",
      " 18  FLAG_ESTOQUE_NEGATIVO      24167 non-null  int64              \n",
      " 19  RECEITA_PROMOCAO           24167 non-null  float64            \n",
      "dtypes: datetime64[ns, UTC](2), datetime64[ns](1), float64(5), int64(4), object(7), string(1)\n",
      "memory usage: 3.9+ MB\n"
     ]
    }
   ],
   "source": [
    "n_vendeu.info()"
   ]
  },
  {
   "cell_type": "code",
   "execution_count": 39,
   "id": "66fee6bb-b8f2-4811-bd45-47cc7fe66145",
   "metadata": {},
   "outputs": [
    {
     "data": {
      "text/plain": [
       "VERTICAL\n",
       "APP & SPORTS      27.30\n",
       "HOME & INDUSTRY   23.30\n",
       "CE                17.00\n",
       "BEAUTY & HEALTH   11.30\n",
       "T & B              7.60\n",
       "CPG                6.20\n",
       "ACC                5.20\n",
       "ENTERTAINMENT      1.40\n",
       "OTHERS             0.70\n",
       "Name: proportion, dtype: float64"
      ]
     },
     "execution_count": 39,
     "metadata": {},
     "output_type": "execute_result"
    }
   ],
   "source": [
    "#Variável - VERTICAL\n",
    "round(100 * n_vendeu['VERTICAL'].value_counts(True),1) "
   ]
  },
  {
   "cell_type": "code",
   "execution_count": 40,
   "id": "1a95cedc-32e4-4717-bc2a-4053635c994c",
   "metadata": {},
   "outputs": [
    {
     "data": {
      "text/plain": [
       "DIA_SEMANA\n",
       "sabado    16.60\n",
       "sexta     16.30\n",
       "terca     14.90\n",
       "quinta    14.50\n",
       "quarta    12.90\n",
       "segunda   12.40\n",
       "domingo   12.30\n",
       "Name: proportion, dtype: float64"
      ]
     },
     "execution_count": 40,
     "metadata": {},
     "output_type": "execute_result"
    }
   ],
   "source": [
    "#Variável - VERTICAL\n",
    "round(100 * n_vendeu['DIA_SEMANA'].value_counts(True),1) "
   ]
  },
  {
   "cell_type": "code",
   "execution_count": null,
   "id": "b0d3a975-818b-4a50-8dec-171f9a8d98cf",
   "metadata": {},
   "outputs": [],
   "source": []
  }
 ],
 "metadata": {
  "kernelspec": {
   "display_name": "Python 3 (ipykernel)",
   "language": "python",
   "name": "python3"
  },
  "language_info": {
   "codemirror_mode": {
    "name": "ipython",
    "version": 3
   },
   "file_extension": ".py",
   "mimetype": "text/x-python",
   "name": "python",
   "nbconvert_exporter": "python",
   "pygments_lexer": "ipython3",
   "version": "3.13.5"
  }
 },
 "nbformat": 4,
 "nbformat_minor": 5
}
