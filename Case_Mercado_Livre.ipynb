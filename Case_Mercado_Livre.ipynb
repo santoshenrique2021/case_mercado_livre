{
 "cells": [
  {
   "cell_type": "markdown",
   "id": "26a0704c-4e90-4f6a-a604-ea8c07db96a4",
   "metadata": {},
   "source": [
    "# EDA das ofertas relâmpagos"
   ]
  },
  {
   "cell_type": "code",
   "execution_count": 1,
   "id": "b5da0c12-3977-47e6-b4b8-54e4017a2697",
   "metadata": {},
   "outputs": [],
   "source": [
    "#Bibliotecas\n",
    "import pandas as pd\n",
    "import numpy as np\n",
    "import matplotlib.pyplot as plt   \n",
    "##Eliminar os warnings\n",
    "import warnings\n",
    "warnings.filterwarnings(\"ignore\")\n",
    "##Ver todas as colunas do data frame\n",
    "pd.set_option('display.max_columns', None)\n",
    "##Ver todas as linhas do data frame\n",
    "pd.set_option('display.max_rows', None)"
   ]
  },
  {
   "cell_type": "markdown",
   "id": "b8bda6f1-0cc9-40f2-8cef-59d78ac6e254",
   "metadata": {},
   "source": [
    "# 1- Visão geral dos dados"
   ]
  },
  {
   "cell_type": "code",
   "execution_count": 2,
   "id": "90e40fcf-3d58-41ef-87b6-0f142564c16e",
   "metadata": {},
   "outputs": [
    {
     "data": {
      "text/html": [
       "<div>\n",
       "<style scoped>\n",
       "    .dataframe tbody tr th:only-of-type {\n",
       "        vertical-align: middle;\n",
       "    }\n",
       "\n",
       "    .dataframe tbody tr th {\n",
       "        vertical-align: top;\n",
       "    }\n",
       "\n",
       "    .dataframe thead th {\n",
       "        text-align: right;\n",
       "    }\n",
       "</style>\n",
       "<table border=\"1\" class=\"dataframe\">\n",
       "  <thead>\n",
       "    <tr style=\"text-align: right;\">\n",
       "      <th></th>\n",
       "      <th>OFFER_START_DATE</th>\n",
       "      <th>OFFER_START_DTTM</th>\n",
       "      <th>OFFER_FINISH_DTTM</th>\n",
       "      <th>OFFER_TYPE</th>\n",
       "      <th>INVOLVED_STOCK</th>\n",
       "      <th>REMAINING_STOCK_AFTER_END</th>\n",
       "      <th>SOLD_AMOUNT</th>\n",
       "      <th>SOLD_QUANTITY</th>\n",
       "      <th>ORIGIN</th>\n",
       "      <th>SHIPPING_PAYMENT_TYPE</th>\n",
       "      <th>DOM_DOMAIN_AGG1</th>\n",
       "      <th>VERTICAL</th>\n",
       "      <th>DOMAIN_ID</th>\n",
       "    </tr>\n",
       "  </thead>\n",
       "  <tbody>\n",
       "    <tr>\n",
       "      <th>0</th>\n",
       "      <td>2021-06-22</td>\n",
       "      <td>2021-06-22 16:00:00+00:00</td>\n",
       "      <td>2021-06-22 23:02:43+00:00</td>\n",
       "      <td>lightning_deal</td>\n",
       "      <td>4</td>\n",
       "      <td>-2</td>\n",
       "      <td>4.72</td>\n",
       "      <td>6.0</td>\n",
       "      <td>A</td>\n",
       "      <td>none</td>\n",
       "      <td>PETS FOOD</td>\n",
       "      <td>CPG</td>\n",
       "      <td>MLM-BIRD_FOODS</td>\n",
       "    </tr>\n",
       "    <tr>\n",
       "      <th>1</th>\n",
       "      <td>2021-06-22</td>\n",
       "      <td>2021-06-22 13:00:00+00:00</td>\n",
       "      <td>2021-06-22 19:00:02+00:00</td>\n",
       "      <td>lightning_deal</td>\n",
       "      <td>5</td>\n",
       "      <td>5</td>\n",
       "      <td>NaN</td>\n",
       "      <td>NaN</td>\n",
       "      <td>NaN</td>\n",
       "      <td>free_shipping</td>\n",
       "      <td>PET PRODUCTS</td>\n",
       "      <td>OTHERS</td>\n",
       "      <td>MLM-ANIMAL_AND_PET_PRODUCTS</td>\n",
       "    </tr>\n",
       "    <tr>\n",
       "      <th>2</th>\n",
       "      <td>2021-06-22</td>\n",
       "      <td>2021-06-22 07:00:00+00:00</td>\n",
       "      <td>2021-06-22 13:00:01+00:00</td>\n",
       "      <td>lightning_deal</td>\n",
       "      <td>15</td>\n",
       "      <td>12</td>\n",
       "      <td>10.73</td>\n",
       "      <td>3.0</td>\n",
       "      <td>NaN</td>\n",
       "      <td>none</td>\n",
       "      <td>COMPUTERS</td>\n",
       "      <td>CE</td>\n",
       "      <td>MLM-SPEAKERS</td>\n",
       "    </tr>\n",
       "  </tbody>\n",
       "</table>\n",
       "</div>"
      ],
      "text/plain": [
       "  OFFER_START_DATE           OFFER_START_DTTM          OFFER_FINISH_DTTM  \\\n",
       "0       2021-06-22  2021-06-22 16:00:00+00:00  2021-06-22 23:02:43+00:00   \n",
       "1       2021-06-22  2021-06-22 13:00:00+00:00  2021-06-22 19:00:02+00:00   \n",
       "2       2021-06-22  2021-06-22 07:00:00+00:00  2021-06-22 13:00:01+00:00   \n",
       "\n",
       "       OFFER_TYPE  INVOLVED_STOCK  REMAINING_STOCK_AFTER_END  SOLD_AMOUNT  \\\n",
       "0  lightning_deal               4                         -2         4.72   \n",
       "1  lightning_deal               5                          5          NaN   \n",
       "2  lightning_deal              15                         12        10.73   \n",
       "\n",
       "   SOLD_QUANTITY ORIGIN SHIPPING_PAYMENT_TYPE DOM_DOMAIN_AGG1 VERTICAL  \\\n",
       "0            6.0      A                  none       PETS FOOD      CPG   \n",
       "1            NaN    NaN         free_shipping    PET PRODUCTS   OTHERS   \n",
       "2            3.0    NaN                  none       COMPUTERS       CE   \n",
       "\n",
       "                     DOMAIN_ID  \n",
       "0               MLM-BIRD_FOODS  \n",
       "1  MLM-ANIMAL_AND_PET_PRODUCTS  \n",
       "2                 MLM-SPEAKERS  "
      ]
     },
     "execution_count": 2,
     "metadata": {},
     "output_type": "execute_result"
    }
   ],
   "source": [
    "#Importar a base de dados\n",
    "df =  pd.read_csv('ofertas_relampago.csv', sep = ',')\n",
    "#Visualizar\n",
    "df.head(3)"
   ]
  },
  {
   "cell_type": "code",
   "execution_count": 3,
   "id": "8575423d-317a-4dbb-b6af-c8a28f225bb1",
   "metadata": {},
   "outputs": [
    {
     "name": "stdout",
     "output_type": "stream",
     "text": [
      "<class 'pandas.core.frame.DataFrame'>\n",
      "RangeIndex: 48746 entries, 0 to 48745\n",
      "Data columns (total 13 columns):\n",
      " #   Column                     Non-Null Count  Dtype  \n",
      "---  ------                     --------------  -----  \n",
      " 0   OFFER_START_DATE           48746 non-null  object \n",
      " 1   OFFER_START_DTTM           48746 non-null  object \n",
      " 2   OFFER_FINISH_DTTM          48746 non-null  object \n",
      " 3   OFFER_TYPE                 48746 non-null  object \n",
      " 4   INVOLVED_STOCK             48746 non-null  int64  \n",
      " 5   REMAINING_STOCK_AFTER_END  48746 non-null  int64  \n",
      " 6   SOLD_AMOUNT                24579 non-null  float64\n",
      " 7   SOLD_QUANTITY              24579 non-null  float64\n",
      " 8   ORIGIN                     11316 non-null  object \n",
      " 9   SHIPPING_PAYMENT_TYPE      48746 non-null  object \n",
      " 10  DOM_DOMAIN_AGG1            48746 non-null  object \n",
      " 11  VERTICAL                   48746 non-null  object \n",
      " 12  DOMAIN_ID                  48746 non-null  object \n",
      "dtypes: float64(2), int64(2), object(9)\n",
      "memory usage: 4.8+ MB\n"
     ]
    }
   ],
   "source": [
    "#Volumetria\n",
    "df.info() #48746 observações"
   ]
  },
  {
   "cell_type": "markdown",
   "id": "22aadcc4-1d78-4da3-95af-fe1eeaa87620",
   "metadata": {},
   "source": [
    "## Entendendo as variáveis"
   ]
  },
  {
   "cell_type": "code",
   "execution_count": 5,
   "id": "38156a85-25a0-43aa-835c-a096fde2c17b",
   "metadata": {},
   "outputs": [
    {
     "data": {
      "text/plain": [
       "61"
      ]
     },
     "execution_count": 5,
     "metadata": {},
     "output_type": "execute_result"
    }
   ],
   "source": [
    "#Variável - OFFER_START_DATE\t\n",
    "df['OFFER_START_DATE'].drop_duplicates().shape[0] #61 dias de oferta relâmpago"
   ]
  },
  {
   "cell_type": "code",
   "execution_count": 6,
   "id": "1176242f-2157-44a5-8465-d9033841b1db",
   "metadata": {},
   "outputs": [
    {
     "data": {
      "text/plain": [
       "OFFER_TYPE\n",
       "lightning_deal    48746\n",
       "Name: count, dtype: int64"
      ]
     },
     "execution_count": 6,
     "metadata": {},
     "output_type": "execute_result"
    }
   ],
   "source": [
    "#Variável - OFFER_TYPE\n",
    "df['OFFER_TYPE'].value_counts() #Todas foram lightning_deal (oferta relâmpago)"
   ]
  },
  {
   "cell_type": "code",
   "execution_count": 7,
   "id": "b9ad0ec1-519d-4a52-955e-cee644503aba",
   "metadata": {},
   "outputs": [
    {
     "data": {
      "text/plain": [
       "ORIGIN\n",
       "A    11316\n",
       "Name: count, dtype: int64"
      ]
     },
     "execution_count": 7,
     "metadata": {},
     "output_type": "execute_result"
    }
   ],
   "source": [
    "#Variável - ORIGIN\n",
    "df['ORIGIN'].value_counts() #Classe A (Alta incidência de missing values)"
   ]
  },
  {
   "cell_type": "code",
   "execution_count": 8,
   "id": "7f6d260a-02fe-4630-a925-7230457eac74",
   "metadata": {},
   "outputs": [
    {
     "data": {
      "text/plain": [
       "SHIPPING_PAYMENT_TYPE\n",
       "free_shipping    26658\n",
       "none             22088\n",
       "Name: count, dtype: int64"
      ]
     },
     "execution_count": 8,
     "metadata": {},
     "output_type": "execute_result"
    }
   ],
   "source": [
    "#Variável - SHIPPING_PAYMENT_TYPE\n",
    "df['SHIPPING_PAYMENT_TYPE'].value_counts() #free_shipping (frete grátis) vs none (frete pago)"
   ]
  },
  {
   "cell_type": "code",
   "execution_count": 11,
   "id": "d57ff499-d234-4f75-b8e8-3a21014e88cd",
   "metadata": {},
   "outputs": [
    {
     "data": {
      "text/plain": [
       "DOM_DOMAIN_AGG1\n",
       "HOME&DECOR                      13.8\n",
       "APPAREL ACCESORIES               9.0\n",
       "APPAREL                          7.9\n",
       "COMPUTERS                        7.7\n",
       "SPORTS                           6.7\n",
       "PHARMACEUTICS                    6.2\n",
       "ELECTRONICS                      6.2\n",
       "PERSONAL CARE                    6.2\n",
       "MOBILE                           3.8\n",
       "AUTOPARTS                        3.5\n",
       "FOOTWEAR                         3.1\n",
       "TOOLS AND CONSTRUCTION           3.1\n",
       "TOYS AND GAMES                   2.9\n",
       "STATIONARY                       2.6\n",
       "INDUSTRY                         2.5\n",
       "BEAUTY EQUIPMENT                 2.3\n",
       "FOODS                            1.8\n",
       "PERSONAL HYGIENE                 1.7\n",
       "BABY                             1.6\n",
       "MOTOPARTS                        1.3\n",
       "BOOKS, MULTIMEDIA & OTHER E!     1.0\n",
       "PETS FOOD                        1.0\n",
       "PARTY                            0.8\n",
       "CLEANING                         0.7\n",
       "SECURITY                         0.7\n",
       "PET PRODUCTS                     0.5\n",
       "SUPLEMENTS                       0.4\n",
       "BATTERIES                        0.2\n",
       "VEHICULAR MULTIMEDIA             0.2\n",
       "ACC TOOLS                        0.2\n",
       "DRINKS                           0.1\n",
       "WHEELS & TIRES                   0.1\n",
       "MUSICAL INSTRUMENTS              0.1\n",
       "OTHER                            0.0\n",
       "ANTIQUES & HOBBIES               0.0\n",
       "AGRO                             0.0\n",
       "Name: proportion, dtype: float64"
      ]
     },
     "execution_count": 11,
     "metadata": {},
     "output_type": "execute_result"
    }
   ],
   "source": [
    "#Variável - DOM_DOMAIN_AGG1 --Tipo de produto comercializado (várias classes)\n",
    "round(100 * df['DOM_DOMAIN_AGG1'].value_counts(True),1) "
   ]
  },
  {
   "cell_type": "markdown",
   "id": "857e8984-44bc-4f74-ace2-90415df44bae",
   "metadata": {},
   "source": [
    "* **Classes de interesse**\n",
    "1. HOME&DECOR                      13.8\n",
    "2. APPAREL ACCESORIES               9.0 (ACESSÓRIOS DE VESTUÁRIO)\n",
    "3. APPAREL                          7.9\n",
    "4. COMPUTERS                        7.7\n",
    "5. SPORTS                           6.7\n",
    "6. PHARMACEUTICS                    6.2\n",
    "7. ELECTRONICS                      6.2\n",
    "8. PERSONAL CARE                    6.2"
   ]
  },
  {
   "cell_type": "code",
   "execution_count": 12,
   "id": "a46cdd90-6a75-4792-872b-babf19283ca0",
   "metadata": {},
   "outputs": [
    {
     "data": {
      "text/plain": [
       "63.70000000000002"
      ]
     },
     "execution_count": 12,
     "metadata": {},
     "output_type": "execute_result"
    }
   ],
   "source": [
    "13.8 + 9.0 + 7.9 + 7.7 + 6.7 + 6.2 + 6.2 + 6.2 #Estas 8 classes tem aproximadamente 64% do total de casos"
   ]
  },
  {
   "cell_type": "code",
   "execution_count": 13,
   "id": "8a08d29e-6620-45f1-88e2-d2066b0d3a6d",
   "metadata": {},
   "outputs": [
    {
     "data": {
      "text/plain": [
       "VERTICAL\n",
       "APP & SPORTS       13241\n",
       "HOME & INDUSTRY    11011\n",
       "CE                  8629\n",
       "BEAUTY & HEALTH     7150\n",
       "CPG                 2714\n",
       "T & B               2624\n",
       "ACC                 2573\n",
       "ENTERTAINMENT        525\n",
       "OTHERS               279\n",
       "Name: count, dtype: int64"
      ]
     },
     "execution_count": 13,
     "metadata": {},
     "output_type": "execute_result"
    }
   ],
   "source": [
    "#Variável - VERTICAL\n",
    "df['VERTICAL'].value_counts() #"
   ]
  },
  {
   "cell_type": "code",
   "execution_count": 17,
   "id": "f9b440a3-4009-41f3-a08f-9c7433eba9f2",
   "metadata": {},
   "outputs": [
    {
     "data": {
      "text/plain": [
       "1266"
      ]
     },
     "execution_count": 17,
     "metadata": {},
     "output_type": "execute_result"
    }
   ],
   "source": [
    "#Variável - DOMAIN_ID (empresa)\n",
    "df['DOMAIN_ID'].value_counts().shape[0] #1266 (muitas classes)"
   ]
  },
  {
   "cell_type": "code",
   "execution_count": null,
   "id": "b0d3a975-818b-4a50-8dec-171f9a8d98cf",
   "metadata": {},
   "outputs": [],
   "source": []
  }
 ],
 "metadata": {
  "kernelspec": {
   "display_name": "Python 3 (ipykernel)",
   "language": "python",
   "name": "python3"
  },
  "language_info": {
   "codemirror_mode": {
    "name": "ipython",
    "version": 3
   },
   "file_extension": ".py",
   "mimetype": "text/x-python",
   "name": "python",
   "nbconvert_exporter": "python",
   "pygments_lexer": "ipython3",
   "version": "3.13.5"
  }
 },
 "nbformat": 4,
 "nbformat_minor": 5
}
